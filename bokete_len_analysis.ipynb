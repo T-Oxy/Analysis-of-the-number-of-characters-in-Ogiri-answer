{
 "cells": [
  {
   "cell_type": "markdown",
   "metadata": {},
   "source": [
    "## sample size calculation"
   ]
  },
  {
   "cell_type": "code",
   "execution_count": 16,
   "metadata": {},
   "outputs": [
    {
     "name": "stdout",
     "output_type": "stream",
     "text": [
      "25.524572500479355\n"
     ]
    }
   ],
   "source": [
    "import statsmodels.stats.power as smp\n",
    "\n",
    "# In the case of t-test(paired two sample for means)\n",
    "sig = 0.05\n",
    "power = 0.8\n",
    "effect_size = 0.8 # (= delta / sd)\n",
    "alternative='two-sided'\n",
    "n = smp.tt_ind_solve_power(effect_size=effect_size,  alpha=sig, power=power, alternative=alternative)\n",
    "print(n)"
   ]
  },
  {
   "cell_type": "markdown",
   "metadata": {},
   "source": [
    "## analysis and visualization"
   ]
  },
  {
   "cell_type": "markdown",
   "metadata": {},
   "source": [
    "### import library"
   ]
  },
  {
   "cell_type": "code",
   "execution_count": 20,
   "metadata": {},
   "outputs": [],
   "source": [
    "import numpy as np\n",
    "import pandas as pd\n",
    "from scipy import stats\n",
    "import matplotlib.pyplot as plt\n",
    "import seaborn as sns"
   ]
  },
  {
   "cell_type": "markdown",
   "metadata": {},
   "source": [
    "### input data"
   ]
  },
  {
   "cell_type": "code",
   "execution_count": 39,
   "metadata": {},
   "outputs": [],
   "source": [
    "df = pd.read_csv('bokete_len_data.csv')\n",
    "high = df['ans_high_len']\n",
    "low = df['ans_low_len']"
   ]
  },
  {
   "cell_type": "markdown",
   "metadata": {},
   "source": [
    "### box plot"
   ]
  },
  {
   "cell_type": "code",
   "execution_count": 64,
   "metadata": {},
   "outputs": [
    {
     "data": {
      "image/png": "[encoded data removed]",
      "text/plain": [
       "<Figure size 432x432 with 1 Axes>"
      ]
     },
     "metadata": {
      "needs_background": "light"
     },
     "output_type": "display_data"
    }
   ],
   "source": [
    "data = [high,low]\n",
    "\n",
    "fig=plt.figure(figsize=(6,6))\n",
    "ax=fig.add_subplot(111)\n",
    "ax.boxplot(data,\n",
    "           whis=1,\n",
    "           patch_artist=True,  \n",
    "           widths=0.5,  \n",
    "           boxprops=dict(facecolor='#ffffffff',color='black', linewidth=1),\n",
    "           medianprops=dict(color='red', linewidth=1.5),\n",
    "           whiskerprops=dict(color='black', linewidth=1),\n",
    "           capprops=dict(color='black', linewidth=1),\n",
    "           flierprops=dict(markeredgecolor='black', markeredgewidth=1),\n",
    "           showmeans=True\n",
    "           )\n",
    "ax.set_xticklabels(['high','low'])\n",
    "\n",
    "plt.xlabel('RATE')\n",
    "plt.ylabel('LEN')\n",
    "plt.ylim([0,40])\n",
    "plt.yticks([0,5,10,15,20,25,30,35,40])\n",
    "plt.grid()\n",
    "\n",
    "plt.show()"
   ]
  },
  {
   "cell_type": "markdown",
   "metadata": {},
   "source": [
    "### calculate 95 percent confidence interval "
   ]
  },
  {
   "cell_type": "code",
   "execution_count": 62,
   "metadata": {},
   "outputs": [],
   "source": [
    "def get_confidence_interval(X):\n",
    "    a = 0.95 #alpha\n",
    "    d = len(X)-1 #degree of freedom\n",
    "    m = np.mean(X) #sample mean\n",
    "    s = stats.sem(X) #unbiased standard error\n",
    "    sec = stats.t.interval(alpha=a, df=d, loc=m, scale=s)\n",
    "    sec_up = np.max(sec) - np.mean(sec)\n",
    "    return sec_up"
   ]
  },
  {
   "cell_type": "markdown",
   "metadata": {},
   "source": [
    "### show confidence intervals"
   ]
  },
  {
   "cell_type": "code",
   "execution_count": 69,
   "metadata": {},
   "outputs": [
    {
     "name": "stderr",
     "output_type": "stream",
     "text": [
      "<ipython-input-69-01c86dd90e5e>:14: UserWarning: FixedFormatter should only be used together with FixedLocator\n",
      "  ax.set_xticklabels(['','high','low',''])\n"
     ]
    },
    {
     "data": {
      "image/png": "[encoded data removed]",
      "text/plain": [
       "<Figure size 432x288 with 1 Axes>"
      ]
     },
     "metadata": {
      "needs_background": "light"
     },
     "output_type": "display_data"
    }
   ],
   "source": [
    "fig2 = plt.figure()\n",
    "ax = fig2.add_subplot(1,1,1)\n",
    "\n",
    "x_list = [2, 3]\n",
    "y_list = [high.mean(), low.mean()]\n",
    "\n",
    "#エラーバーの範囲\n",
    "interval_list = [get_confidence_interval(high), get_confidence_interval(low)]\n",
    "\n",
    "#各エラーバーの描画\n",
    "for x, y, interval in zip(x_list, y_list, interval_list):\n",
    "    ax.errorbar(x, y, interval, fmt='ro', capsize=4, ecolor='black')\n",
    "\n",
    "ax.set_xticklabels(['','high','low',''])\n",
    "\n",
    "plt.xlabel('RATE')\n",
    "plt.ylabel('LEN')\n",
    "plt.xticks([1,2,3,4])\n",
    "plt.yticks([0,5,10,15,20])\n",
    "plt.grid()\n",
    "\n",
    "plt.show()\n"
   ]
  },
  {
   "cell_type": "code",
   "execution_count": 68,
   "metadata": {},
   "outputs": [
    {
     "name": "stdout",
     "output_type": "stream",
     "text": [
      "mean: high= 12.115384615384615 low= 13.615384615384615\n",
      "mean: high= 7.612237111792686 low= 8.754778914750153\n",
      "confidence: high= 3.0746491090381944 low= 3.53613173036379\n"
     ]
    }
   ],
   "source": [
    "print('mean: high=', high.mean(), 'low=', low.mean())\n",
    "print('mean: high=', high.std(), 'low=', low.std())\n",
    "print('confidence: high=', get_confidence_interval(high), 'low=', get_confidence_interval(low))"
   ]
  },
  {
   "cell_type": "markdown",
   "metadata": {},
   "source": [
    "## t-test(paired two sample for means)"
   ]
  },
  {
   "cell_type": "code",
   "execution_count": 72,
   "metadata": {},
   "outputs": [
    {
     "data": {
      "text/plain": [
       "Ttest_relResult(statistic=-0.941326257304073, pvalue=0.3555454098366134)"
      ]
     },
     "execution_count": 72,
     "metadata": {},
     "output_type": "execute_result"
    }
   ],
   "source": [
    "stats.ttest_rel(high, low, alternative='two-sided')"
   ]
  },
  {
   "cell_type": "markdown",
   "metadata": {},
   "source": [
    "## power calculation"
   ]
  },
  {
   "cell_type": "code",
   "execution_count": 35,
   "metadata": {},
   "outputs": [
    {
     "name": "stdout",
     "output_type": "stream",
     "text": [
      "0.8074866120269494\n"
     ]
    }
   ],
   "source": [
    "sig = 0.05\n",
    "effect_size = 0.8\n",
    "n = 26\n",
    "alternative='two-sided'\n",
    "power = smp.TTestIndPower().power(effect_size, n, sig,  alternative=alternative)\n",
    "print(power)"
   ]
  }
 ],
 "metadata": {
  "kernelspec": {
   "display_name": "Python 3.8.8 ('base')",
   "language": "python",
   "name": "python3"
  },
  "language_info": {
   "codemirror_mode": {
    "name": "ipython",
    "version": 3
   },
   "file_extension": ".py",
   "mimetype": "text/x-python",
   "name": "python",
   "nbconvert_exporter": "python",
   "pygments_lexer": "ipython3",
   "version": "3.8.8"
  },
  "orig_nbformat": 4,
  "vscode": {
   "interpreter": {
    "hash": "e80b778ea106b453473ca966f3d45054c014051f5d2cd91cf7f6ed1599622e89"
   }
  }
 },
 "nbformat": 4,
 "nbformat_minor": 2
}
